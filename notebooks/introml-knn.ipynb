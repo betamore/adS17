{
 "cells": [
  {
   "cell_type": "code",
   "execution_count": null,
   "metadata": {
    "collapsed": true
   },
   "outputs": [],
   "source": [
    "'''\n",
    "MACHINE LEARNING WITH KNN\n",
    "'''\n",
    "import pandas as pd\n",
    "\n",
    "\n",
    "# read in the iris data\n",
    "from sklearn.datasets import load_iris\n",
    "iris = load_iris()\n",
    "\n",
    "\n"
   ]
  },
  {
   "cell_type": "code",
   "execution_count": null,
   "metadata": {
    "collapsed": false
   },
   "outputs": [],
   "source": [
    "# create X (features) and y (response)\n",
    "data = pd.read_csv('../data/iris.csv')\n",
    "\n",
    "X, y = data.drop('species', axis = 1), data['species']\n",
    "X.shape\n",
    "y.shape\n"
   ]
  },
  {
   "cell_type": "code",
   "execution_count": null,
   "metadata": {
    "collapsed": false
   },
   "outputs": [],
   "source": [
    "# predict y with KNN\n",
    "from sklearn.neighbors import KNeighborsClassifier  # import class\n",
    "\n",
    "knn = KNeighborsClassifier(n_neighbors=1)           # instantiate the estimator\n",
    "\n",
    "knn.fit(X, y)                                       # fit with data\n",
    "\n",
    "knn.predict([3, 5, 4, 2])                           # predict for a new observation\n"
   ]
  },
  {
   "cell_type": "code",
   "execution_count": null,
   "metadata": {
    "collapsed": false
   },
   "outputs": [],
   "source": [
    "# predict for multiple observations at once\n",
    "X_new = [[3, 5, 4, 2], [3, 5, 2, 2]]\n",
    "knn.predict(X_new)"
   ]
  },
  {
   "cell_type": "code",
   "execution_count": null,
   "metadata": {
    "collapsed": false
   },
   "outputs": [],
   "source": [
    "# try a different value of K\n",
    "knn = KNeighborsClassifier(n_neighbors=5)\n",
    "knn.fit(X, y)\n",
    "knn.predict(X_new)              # predictions\n",
    "knn.predict_proba(X_new)        # predicted probabilities\n",
    "knn.kneighbors([3, 5, 4, 2])    # distances to nearest neighbors (and identities)"
   ]
  },
  {
   "cell_type": "code",
   "execution_count": null,
   "metadata": {
    "collapsed": false
   },
   "outputs": [],
   "source": [
    "# compute the accuracy for K=5 and K=1\n",
    "\n",
    "# K = 5\n",
    "knn = KNeighborsClassifier(n_neighbors=5)\n",
    "knn.fit(X, y)\n",
    "knn.score(X, y)\n",
    "# the score function will return the accuracy of your prediction\n",
    "# the number of correct prepdictions / the number of rows\n",
    "\n",
    "\n",
    "# K = 1\n",
    "knn = KNeighborsClassifier(n_neighbors=1)\n",
    "knn.fit(X, y)\n",
    "knn.score(X, y)"
   ]
  }
 ],
 "metadata": {
  "kernelspec": {
   "display_name": "Python 2",
   "language": "python",
   "name": "python2"
  },
  "language_info": {
   "codemirror_mode": {
    "name": "ipython",
    "version": 2
   },
   "file_extension": ".py",
   "mimetype": "text/x-python",
   "name": "python",
   "nbconvert_exporter": "python",
   "pygments_lexer": "ipython2",
   "version": "2.7.9"
  }
 },
 "nbformat": 4,
 "nbformat_minor": 0
}
