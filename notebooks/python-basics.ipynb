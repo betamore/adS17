{
 "cells": [
  {
   "cell_type": "markdown",
   "metadata": {},
   "source": [
    "Python Basics\n",
    "============="
   ]
  },
  {
   "cell_type": "code",
   "execution_count": 2,
   "metadata": {
    "collapsed": false
   },
   "outputs": [
    {
     "name": "stdout",
     "output_type": "stream",
     "text": [
      "2\n",
      "2.5\n"
     ]
    }
   ],
   "source": [
    "##### BASIC DATA TYPES ######\n",
    "\n",
    "x = 5               # creates an object\n",
    "type(5)             # assigning it to a variable is not required\n",
    "type(5.0)           # float\n",
    "type('five')        # str , single or double quotes\n",
    "type(True)          # bool\n",
    "print 5 / 2               # integer division ignores remainder\n",
    "print 5 / 2.0             # the presence of a decimal means float division"
   ]
  },
  {
   "cell_type": "code",
   "execution_count": null,
   "metadata": {
    "collapsed": true
   },
   "outputs": [],
   "source": [
    "###### LISTS ######\n",
    "\n",
    "nums = [5, 5.0, 'five']     # multiple data types\n",
    "nums                        # print the list\n",
    "type(nums)                  # check the type: list\n",
    "len(nums)                   # check the length: 3\n",
    "nums[0]                     # print first element\n",
    "nums[-1]                    # prints last element in the list\n",
    "nums[2] = 6                 # replace a list element\n",
    "nums                        # IT CHANGED\n",
    "nums.append(7)              # list 'method' that changes the list\n",
    "nums.remove(5)              # another list method\n",
    "nums.append(5)\n",
    "nums.append(\"apple\")\n",
    "nums.remove(\"apple\")\n",
    "sorted(nums)                # 'function' that does not modify the list\n",
    "sorted(nums, reverse=True)  # optional argument\n",
    "sum(nums)                   # returns sum of a list of numbers\n",
    "'''\n",
    "note that list methods are a part of lists, like append and remove\n",
    "but sorted is a built in python method that TAKES IN a list\n",
    "'''"
   ]
  },
  {
   "cell_type": "code",
   "execution_count": 3,
   "metadata": {
    "collapsed": true
   },
   "outputs": [],
   "source": [
    "# let's use a for loop to \"iterate\" over this list\n",
    "days_of_the_week = ['Monday', \"Tuesday\", \"Wednesday\", \"Thursday\", \"Friday\", \"Saturday\", 'Sunday']"
   ]
  },
  {
   "cell_type": "code",
   "execution_count": 4,
   "metadata": {
    "collapsed": false
   },
   "outputs": [
    {
     "data": {
      "text/plain": [
       "['Monday', 'Thursday', 'Sunday']"
      ]
     },
     "execution_count": 4,
     "metadata": {},
     "output_type": "execute_result"
    }
   ],
   "source": [
    "# list slicing\n",
    "weekdays = days_of_the_week[0:5]    # weekdays, NOTE doesn't include the index 5\n",
    "weekdays[0:2]  # Start from Index 0 (first) until Index 2 (not inclusive)\n",
    "days_of_the_week[5:]     # weekends\n",
    "days_of_the_week[:5]\n",
    "days_of_the_week[0:7:3]  # the third element means every second element"
   ]
  },
  {
   "cell_type": "code",
   "execution_count": null,
   "metadata": {
    "collapsed": true
   },
   "outputs": [],
   "source": [
    "###### Tuples ######\n",
    "'''\n",
    "Tuples are basically lists that can never be changed. You can think of them as light weight lists also.\n",
    "Lists can grow and shrink via append, insert and remove.\n",
    "Sometimes we don't want our list to be changed. That's what tuples are for.\n",
    "If you try to append or remove elements in a tuple, you will get an Traceback error.\n",
    "Technically, lists are mutable objects and tuples are immutable objects.\n",
    "Mutable objects can change (think of mutations), and immutable objects can not change.\n",
    "'''"
   ]
  },
  {
   "cell_type": "code",
   "execution_count": 5,
   "metadata": {
    "collapsed": false
   },
   "outputs": [
    {
     "data": {
      "text/plain": [
       "[0, 1, 2, 3, 4, 5, 6, 7, 8, 9]"
      ]
     },
     "execution_count": 5,
     "metadata": {},
     "output_type": "execute_result"
    }
   ],
   "source": [
    "# range\n",
    "range(10)  # range function creates a list of 10 items (0 - 9)"
   ]
  },
  {
   "cell_type": "code",
   "execution_count": 6,
   "metadata": {
    "collapsed": true
   },
   "outputs": [],
   "source": [
    "##### CONDITIONALS ######\n",
    "\n",
    "# we will use an if else to implement logic\n",
    "x              # remember x?\n",
    "if x  > 10:\n",
    "    print \"x is more than 10 !\"  # print adds a new line character to the end\n",
    "    print \"hooray\"\n",
    "elif x > 100:\n",
    "    print \"x is HUGE\"\n",
    "\n",
    "#as soon as one conditional is satisfied, it stops checking!"
   ]
  },
  {
   "cell_type": "code",
   "execution_count": 7,
   "metadata": {
    "collapsed": false
   },
   "outputs": [
    {
     "name": "stdout",
     "output_type": "stream",
     "text": [
      "water is ice\n"
     ]
    }
   ],
   "source": [
    "temperature = 20\n",
    "if temperature <= 32:\n",
    "    print \"water is ice\"\n",
    "elif temperature > 32 and temperature < 212:\n",
    "    print \"water is liquid\"\n",
    "else:                        #implicity means else if temperature >=212\n",
    "    print \"water will boil\"\n",
    "\n"
   ]
  },
  {
   "cell_type": "code",
   "execution_count": 8,
   "metadata": {
    "collapsed": true
   },
   "outputs": [],
   "source": [
    "###### DICTIONARIES ######\n",
    "'''\n",
    "have a key value structure,\n",
    "like a dictionary! :)\n",
    "dictionary = {\n",
    "    key1: value1,\n",
    "    key2: value2,\n",
    "    ....\n",
    "}\n",
    "'''\n",
    "\n",
    "hunter = {\n",
    "    \"age\" : 23,\n",
    "    \"location\" : \"Baltimore\",\n",
    "    \"gender\": \"Male\",\n",
    "    \"occupation\": \"Professor/Entrepreneur\"\n",
    "}\n",
    "\n",
    "hunter['age']\n",
    "hunter['location']\n",
    "\n",
    "lauren = {\n",
    "    \"age\" : 29,\n",
    "    \"location\" : \"Washington, D.C.\",\n",
    "    \"gender\": \"Female\",\n",
    "    'occupation': \"Security Analyst\"\n",
    "}"
   ]
  },
  {
   "cell_type": "code",
   "execution_count": 9,
   "metadata": {
    "collapsed": false
   },
   "outputs": [
    {
     "data": {
      "text/plain": [
       "23"
      ]
     },
     "execution_count": 9,
     "metadata": {},
     "output_type": "execute_result"
    }
   ],
   "source": [
    "people = [hunter, lauren] #is a list of myself\n",
    "\n",
    "people[0] # is the dictionary thar represents hunter\n",
    "people[0]['age']"
   ]
  },
  {
   "cell_type": "code",
   "execution_count": null,
   "metadata": {
    "collapsed": true
   },
   "outputs": [],
   "source": [
    "'''\n",
    "for loops are a way of \"iterating\" over an item, like a list!\n",
    "but also dictionaries!\n",
    "'''\n",
    "\n",
    "# iterating over a list\n",
    "for day in days_of_the_week: # the \"day\" variable can really be called anything\n",
    "    print \"the day is \" + day\n",
    "\n",
    "for person in people:\n",
    "    print type(person)\n",
    "    print str(person['age']) + \" and lives in \"+person['location']\n"
   ]
  }
 ],
 "metadata": {
  "kernelspec": {
   "display_name": "Python 2",
   "language": "python",
   "name": "python2"
  },
  "language_info": {
   "codemirror_mode": {
    "name": "ipython",
    "version": 2
   },
   "file_extension": ".py",
   "mimetype": "text/x-python",
   "name": "python",
   "nbconvert_exporter": "python",
   "pygments_lexer": "ipython2",
   "version": "2.7.9"
  }
 },
 "nbformat": 4,
 "nbformat_minor": 0
}
