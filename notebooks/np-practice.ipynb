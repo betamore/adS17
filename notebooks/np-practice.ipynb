{
 "cells": [
  {
   "cell_type": "code",
   "execution_count": null,
   "metadata": {
    "collapsed": false
   },
   "outputs": [],
   "source": [
    "'''\n",
    "Import the numpy package under the name np\n",
    "'''\n",
    "import numpy as np"
   ]
  },
  {
   "cell_type": "code",
   "execution_count": null,
   "metadata": {
    "collapsed": false
   },
   "outputs": [],
   "source": [
    "'''\n",
    "Create a null vector of size 10 \n",
    "'''\n",
    "\n",
    "a = np.zeros(10)\n",
    "print a"
   ]
  },
  {
   "cell_type": "code",
   "execution_count": null,
   "metadata": {
    "collapsed": false
   },
   "outputs": [],
   "source": [
    "'''Create a null vector of size 10 but the fifth value which is 1\n",
    "'''\n",
    "nv = np.zeros(10)\n",
    "nv[4] = 1\n",
    "print nv"
   ]
  },
  {
   "cell_type": "code",
   "execution_count": null,
   "metadata": {
    "collapsed": false
   },
   "outputs": [],
   "source": [
    "'''Find indices of non-zero elements from [1,2,0,0,4,0]\n",
    "'''\n",
    "b = [1,2,0,0,4,0]\n",
    "np.nonzero(b)\n"
   ]
  },
  {
   "cell_type": "code",
   "execution_count": null,
   "metadata": {
    "collapsed": false
   },
   "outputs": [],
   "source": [
    "'''Create a 10x10 array with random values and find the minimum and maximum values\n",
    "'''\n",
    "\n",
    "x = np.random.randint(100,size=(10,10))\n",
    "print x\n",
    "print np.amax(x)\n",
    "print np.amin(x)"
   ]
  },
  {
   "cell_type": "code",
   "execution_count": null,
   "metadata": {
    "collapsed": false
   },
   "outputs": [],
   "source": [
    "'''\n",
    "Multiply a 5x3 matrix by a 3x2 matrix (real matrix product)\n",
    "'''\n",
    "W = np.ones((5,3))\n",
    "Z = np.ones((3,2))\n",
    "D = np.outer(Z,W)\n"
   ]
  },
  {
   "cell_type": "code",
   "execution_count": null,
   "metadata": {
    "collapsed": false
   },
   "outputs": [],
   "source": [
    "W = np.ones((5,3))\n",
    "Z = np.ones((3,2))\n",
    "\n",
    "D = np.dot(W,Z)\n",
    "print D\n"
   ]
  },
  {
   "cell_type": "code",
   "execution_count": null,
   "metadata": {
    "collapsed": true
   },
   "outputs": [],
   "source": [
    "'''\n",
    "Create a random vector of size 10 and sort it\n",
    "\n",
    "'''"
   ]
  },
  {
   "cell_type": "code",
   "execution_count": null,
   "metadata": {
    "collapsed": true
   },
   "outputs": [],
   "source": []
  }
 ],
 "metadata": {
  "kernelspec": {
   "display_name": "Python 2",
   "language": "python",
   "name": "python2"
  },
  "language_info": {
   "codemirror_mode": {
    "name": "ipython",
    "version": 2
   },
   "file_extension": ".py",
   "mimetype": "text/x-python",
   "name": "python",
   "nbconvert_exporter": "python",
   "pygments_lexer": "ipython2",
   "version": "2.7.9"
  }
 },
 "nbformat": 4,
 "nbformat_minor": 0
}
