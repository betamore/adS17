{
 "cells": [
  {
   "cell_type": "code",
   "execution_count": null,
   "metadata": {
    "collapsed": false
   },
   "outputs": [],
   "source": [
    "'''\n",
    "Numpy Reference Guide\n",
    "\n",
    "Sources:\n",
    "    http://www.engr.ucsb.edu/~shell/che210d/numpy.pdf\n",
    "    Book: Python for Data Analysis (Chapter 4)\n",
    "'''\n",
    "\n",
    "import numpy as np\n",
    "import matplotlib.pyplot as plt\n",
    "%matplotlib inline"
   ]
  },
  {
   "cell_type": "code",
   "execution_count": null,
   "metadata": {
    "collapsed": false
   },
   "outputs": [],
   "source": [
    "# create ndarrays from lists\n",
    "# note: every element must be the same type (will be converted if possible)\n",
    "data1 = [6, 7.5, 8, 0, 1]           # list\n",
    "arr1 = np.array(data1)              # 1d array\n",
    "arr1"
   ]
  },
  {
   "cell_type": "code",
   "execution_count": null,
   "metadata": {
    "collapsed": false
   },
   "outputs": [],
   "source": [
    "data2 = [range(1, 5), range(5, 9)]  # list of lists\n",
    "arr2 = np.array(data2)              # 2d array\n",
    "arr2"
   ]
  },
  {
   "cell_type": "code",
   "execution_count": null,
   "metadata": {
    "collapsed": false
   },
   "outputs": [],
   "source": [
    "arr2.tolist()                       # convert array back to list"
   ]
  },
  {
   "cell_type": "code",
   "execution_count": null,
   "metadata": {
    "collapsed": false
   },
   "outputs": [],
   "source": [
    "print arr1.dtype      # float64\n",
    "print arr2.dtype      # int64\n",
    "print arr2.ndim       # 2\n",
    "print arr2.shape      # (2, 4) - axis 0 is rows, axis 1 is columns\n",
    "print arr2.size       # 8 - total number of elements\n",
    "print len(arr2)       # 2 - size of first dimension (aka axis)\n",
    "\n"
   ]
  },
  {
   "cell_type": "code",
   "execution_count": null,
   "metadata": {
    "collapsed": false
   },
   "outputs": [],
   "source": [
    "# create special arrays\n",
    "np.zeros(10)"
   ]
  },
  {
   "cell_type": "code",
   "execution_count": null,
   "metadata": {
    "collapsed": false
   },
   "outputs": [],
   "source": [
    "np.zeros((3, 6))"
   ]
  },
  {
   "cell_type": "code",
   "execution_count": null,
   "metadata": {
    "collapsed": false
   },
   "outputs": [],
   "source": [
    "np.ones(10)*8"
   ]
  },
  {
   "cell_type": "code",
   "execution_count": null,
   "metadata": {
    "collapsed": false
   },
   "outputs": [],
   "source": [
    "np.linspace(0, 100, 7)            # 0 to 1 (inclusive) with 5 points"
   ]
  },
  {
   "cell_type": "code",
   "execution_count": null,
   "metadata": {
    "collapsed": false
   },
   "outputs": [],
   "source": [
    "np.logspace(0, 3, 4)            # 10^0 to 10^3 (inclusive) with 4 points"
   ]
  },
  {
   "cell_type": "code",
   "execution_count": null,
   "metadata": {
    "collapsed": false
   },
   "outputs": [],
   "source": [
    "# arange is like range, except it returns an array (not a list)\n",
    "int_array = np.arange(5)\n",
    "int_array"
   ]
  },
  {
   "cell_type": "code",
   "execution_count": null,
   "metadata": {
    "collapsed": false
   },
   "outputs": [],
   "source": [
    "float_array = int_array.astype(float)\n",
    "float_array"
   ]
  },
  {
   "cell_type": "code",
   "execution_count": null,
   "metadata": {
    "collapsed": false
   },
   "outputs": [],
   "source": [
    "#slicing\n",
    "print arr1\n",
    "arr1[0]         # 0th element (slices like a list)"
   ]
  },
  {
   "cell_type": "code",
   "execution_count": null,
   "metadata": {
    "collapsed": false
   },
   "outputs": [],
   "source": [
    "print arr2\n",
    "arr2[0]         # row 0: returns 1d array ([1, 2, 3, 4])"
   ]
  },
  {
   "cell_type": "code",
   "execution_count": null,
   "metadata": {
    "collapsed": false
   },
   "outputs": [],
   "source": [
    "arr2[0, 3]      # row 0, column 3: returns 4"
   ]
  },
  {
   "cell_type": "code",
   "execution_count": null,
   "metadata": {
    "collapsed": false
   },
   "outputs": [],
   "source": [
    "arr2[0][3]      # alternative syntax"
   ]
  },
  {
   "cell_type": "code",
   "execution_count": null,
   "metadata": {
    "collapsed": false
   },
   "outputs": [],
   "source": [
    "arr2[:, 0]      # all rows, column 0: returns 1d array ([1, 5])"
   ]
  },
  {
   "cell_type": "code",
   "execution_count": null,
   "metadata": {
    "collapsed": false
   },
   "outputs": [],
   "source": [
    "arr2[0:2, 1:3]    # both rows, columns 1 and 2: returns 2d array"
   ]
  },
  {
   "cell_type": "code",
   "execution_count": null,
   "metadata": {
    "collapsed": false
   },
   "outputs": [],
   "source": [
    "arr = np.arange(10)\n",
    "arr"
   ]
  },
  {
   "cell_type": "code",
   "execution_count": null,
   "metadata": {
    "collapsed": false
   },
   "outputs": [],
   "source": [
    "arr[5:8]                    # returns [5, 6, 7]"
   ]
  },
  {
   "cell_type": "code",
   "execution_count": null,
   "metadata": {
    "collapsed": false
   },
   "outputs": [],
   "source": [
    "arr[5:8] = 12               # all three values are overwritten (would give error on a list)\n",
    "arr"
   ]
  },
  {
   "cell_type": "code",
   "execution_count": null,
   "metadata": {
    "collapsed": false
   },
   "outputs": [],
   "source": [
    "arr_view = arr[5:8]         # creates a \"view\" on arr, not a copy\n",
    "arr_view"
   ]
  },
  {
   "cell_type": "code",
   "execution_count": null,
   "metadata": {
    "collapsed": false
   },
   "outputs": [],
   "source": [
    "arr_view[:] = 13            # modifies arr_view AND arr\n",
    "print arr_view\n",
    "arr"
   ]
  },
  {
   "cell_type": "code",
   "execution_count": null,
   "metadata": {
    "collapsed": true
   },
   "outputs": [],
   "source": [
    "arr_copy = arr[5:8].copy()  # makes a copy instead"
   ]
  },
  {
   "cell_type": "code",
   "execution_count": null,
   "metadata": {
    "collapsed": false
   },
   "outputs": [],
   "source": [
    "arr_copy[:] = 14            # only modifies arr_copy\n",
    "print arr_copy\n",
    "arr"
   ]
  },
  {
   "cell_type": "code",
   "execution_count": null,
   "metadata": {
    "collapsed": false
   },
   "outputs": [],
   "source": [
    "# using boolean arrays\n",
    "names = np.array(['Bob', 'Joe', 'Will', 'Bob'])\n",
    "print names == 'Bob'                          # returns a boolean array\n",
    "print names[names != 'Bob']                   # logical selection\n",
    "print (names == 'Bob') | (names == 'Will')    # keywords \"and/or\" don't work with boolean arrays\n",
    "names[names != 'Bob'] = 'Joe'           # assign based on a logical selection\n",
    "print names\n",
    "print np.unique(names)                        # set function"
   ]
  },
  {
   "cell_type": "code",
   "execution_count": null,
   "metadata": {
    "collapsed": false
   },
   "outputs": [],
   "source": [
    "# vectorized operations\n",
    "nums = np.arange(5)\n",
    "print nums\n",
    "print nums*10                             # multiply each element by 10\n"
   ]
  },
  {
   "cell_type": "code",
   "execution_count": null,
   "metadata": {
    "collapsed": false
   },
   "outputs": [],
   "source": [
    "nums = np.sqrt(nums)                # square root of each element\n",
    "print nums\n",
    "print np.ceil(nums)                       # also floor, rint (round to nearest int)\n",
    "print np.isnan(nums)                      # checks for NaN\n",
    "print nums + np.arange(5)                 # add element-wise\n",
    "print np.maximum(nums, np.array([1, -2, 3, -4, 5]))  # compare element-wise"
   ]
  },
  {
   "cell_type": "code",
   "execution_count": null,
   "metadata": {
    "collapsed": false
   },
   "outputs": [],
   "source": [
    "# math and stats\n",
    "rnd = np.random.randn(4, 2) # random normals in 4x2 array\n",
    "print rnd.mean()\n",
    "print rnd.std()\n",
    "print rnd.argmin()                # index of minimum element\n",
    "print rnd.sum()\n",
    "print rnd.sum(axis=0)             # sum of columns\n",
    "print rnd.sum(axis=1)             # sum of rows"
   ]
  },
  {
   "cell_type": "code",
   "execution_count": null,
   "metadata": {
    "collapsed": false
   },
   "outputs": [],
   "source": [
    "# use numpy to create scatter plots\n",
    "N = 50\n",
    "\n",
    "x = np.random.rand(N)\n",
    "y = np.random.rand(N)\n",
    "colors = np.random.rand(N)\n",
    "area =30+(70*np.random.rand(N)) # 30 to 100 point radiuses\n",
    "plt.scatter(x, y, s=area, c=colors)"
   ]
  },
  {
   "cell_type": "code",
   "execution_count": null,
   "metadata": {
    "collapsed": false
   },
   "outputs": [],
   "source": [
    "# conditional logic\n",
    "np.where(rnd > 0, 2, -2)    # args: condition, value if True, value if False"
   ]
  },
  {
   "cell_type": "code",
   "execution_count": null,
   "metadata": {
    "collapsed": false
   },
   "outputs": [],
   "source": [
    "np.where(rnd > 0, 2, rnd)   # any of the 3 arguments can be an array"
   ]
  },
  {
   "cell_type": "code",
   "execution_count": null,
   "metadata": {
    "collapsed": false
   },
   "outputs": [],
   "source": [
    "# methods for boolean arrays\n",
    "(rnd > 0).sum()             # counts number of positive values"
   ]
  },
  {
   "cell_type": "code",
   "execution_count": null,
   "metadata": {
    "collapsed": false
   },
   "outputs": [],
   "source": [
    "(rnd > 0).any()             # checks if any value is True"
   ]
  },
  {
   "cell_type": "code",
   "execution_count": null,
   "metadata": {
    "collapsed": false
   },
   "outputs": [],
   "source": [
    "(rnd > 0).all()             # checks if all values are True"
   ]
  },
  {
   "cell_type": "code",
   "execution_count": null,
   "metadata": {
    "collapsed": false
   },
   "outputs": [],
   "source": [
    "# reshape, transpose, flatten\n",
    "nums = np.arange(32).reshape(8, 4) # creates 8x4 array\n",
    "nums"
   ]
  },
  {
   "cell_type": "code",
   "execution_count": null,
   "metadata": {
    "collapsed": false
   },
   "outputs": [],
   "source": [
    "nums.T                       # transpose"
   ]
  },
  {
   "cell_type": "code",
   "execution_count": null,
   "metadata": {
    "collapsed": false
   },
   "outputs": [],
   "source": [
    "nums.flatten()               # flatten"
   ]
  },
  {
   "cell_type": "code",
   "execution_count": null,
   "metadata": {
    "collapsed": false
   },
   "outputs": [],
   "source": [
    "# random numbers\n",
    "np.random.seed(12234)     # seed fixes the randomness\n",
    "np.random.rand(2, 3)      # 0 to 1, in the given shape"
   ]
  },
  {
   "cell_type": "code",
   "execution_count": null,
   "metadata": {
    "collapsed": false
   },
   "outputs": [],
   "source": [
    "np.random.randn(10)         # random normals (mean 0, sd 1)"
   ]
  },
  {
   "cell_type": "code",
   "execution_count": null,
   "metadata": {
    "collapsed": false
   },
   "outputs": [],
   "source": [
    "np.random.randint(0, 2, 10) # 0 or 1"
   ]
  },
  {
   "cell_type": "code",
   "execution_count": null,
   "metadata": {
    "collapsed": true
   },
   "outputs": [],
   "source": []
  },
  {
   "cell_type": "code",
   "execution_count": null,
   "metadata": {
    "collapsed": true
   },
   "outputs": [],
   "source": []
  },
  {
   "cell_type": "code",
   "execution_count": null,
   "metadata": {
    "collapsed": true
   },
   "outputs": [],
   "source": []
  },
  {
   "cell_type": "code",
   "execution_count": null,
   "metadata": {
    "collapsed": true
   },
   "outputs": [],
   "source": []
  }
 ],
 "metadata": {
  "kernelspec": {
   "display_name": "Python 2",
   "language": "python",
   "name": "python2"
  },
  "language_info": {
   "codemirror_mode": {
    "name": "ipython",
    "version": 2
   },
   "file_extension": ".py",
   "mimetype": "text/x-python",
   "name": "python",
   "nbconvert_exporter": "python",
   "pygments_lexer": "ipython2",
   "version": "2.7.9"
  }
 },
 "nbformat": 4,
 "nbformat_minor": 0
}
